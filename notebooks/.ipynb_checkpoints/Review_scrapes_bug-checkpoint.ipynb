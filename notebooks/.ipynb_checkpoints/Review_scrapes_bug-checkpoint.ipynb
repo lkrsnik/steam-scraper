{
 "cells": [
  {
   "cell_type": "code",
   "execution_count": 2,
   "id": "336dcd58-6435-42e7-8693-1a2eb85b1e44",
   "metadata": {},
   "outputs": [],
   "source": [
    "import scrapy"
   ]
  },
  {
   "attachments": {},
   "cell_type": "markdown",
   "id": "abb34a3b-5545-4b08-a7ec-f7d39076b147",
   "metadata": {},
   "source": [
    "# What is going on with review scrapes\n",
    "\n"
   ]
  },
  {
   "cell_type": "code",
   "execution_count": 19,
   "id": "988f23eb-d81c-4e2e-932f-793259a4f87d",
   "metadata": {},
   "outputs": [],
   "source": [
    "# Base URL\n",
    "url = 'https://steamcommunity.com/app/9200/homecontent/?userreviewscursor=AoJw7YesmIwDd9P5xgQ%3D&userreviewsoffset=10&p=2&workshopitemspage=2&readytouseitemspage=2&mtxitemspage=2&itemspage=2&screenshotspage=2&videospage=2&artpage=2&allguidepage=2&webguidepage=2&integratedguidepage=2&discussionspage=2&numperpage=10&browsefilter=mostrecent&browsefilter=mostrecent&l=english&appHubSubSection=10&filterLanguage=default&searchText=&maxInappropriateScore=50&forceanon=1'\n",
    "ur2 = 'https://steamcommunity.com/app/9200/homecontent/?userreviewscursor=AoJwoNS9iIwDeovaxAQ%3D&userreviewsoffset=20&p=3&workshopitemspage=3&readytouseitemspage=3&mtxitemspage=3&itemspage=3&screenshotspage=3&videospage=3&artpage=3&allguidepage=3&webguidepage=3&integratedguidepage=3&discussionspage=3&numperpage=10&browsefilter=mostrecent&browsefilter=mostrecent&appid=9200&appHubSubSection=10&appHubSubSection=10&l=english&filterLanguage=default&searchText=&maxInappropriateScore=50&forceanon=1'\n",
    "ur4 = 'https://steamcommunity.com/app/9200/homecontent/?userreviewscursor=AoJw%2B7eV2YsDf9y1uwQ%3D&userreviewsoffset=40&p=5&workshopitemspage=5&readytouseitemspage=5&mtxitemspage=5&itemspage=5&screenshotspage=5&videospage=5&artpage=5&allguidepage=5&webguidepage=5&integratedguidepage=5&discussionspage=5&numperpage=10&browsefilter=mostrecent&browsefilter=mostrecent&appid=9200&appHubSubSection=10&appHubSubSection=10&l=english&filterLanguage=default&searchText=&maxInappropriateScore=50&forceanon=1'\n"
   ]
  },
  {
   "cell_type": "code",
   "execution_count": 11,
   "id": "44ed74fe-e023-40bc-ad88-db48abdfa6c7",
   "metadata": {},
   "outputs": [
    {
     "name": "stdout",
     "output_type": "stream",
     "text": [
      "{'userreviewscursor': 'AoJw%2B7eV2YsDf9y1uwQ%3D', 'userreviewsoffset': '40', 'p': '5', 'workshopitemspage': '5', 'readytouseitemspage': '5', 'mtxitemspage': '5', 'itemspage': '5', 'screenshotspage': '5', 'videospage': '5', 'artpage': '5', 'allguidepage': '5', 'webguidepage': '5', 'integratedguidepage': '5', 'discussionspage': '5', 'numperpage': '10', 'browsefilter': 'mostrecent', 'appid': '9200', 'appHubSubSection': '10', 'l': 'english', 'filterLanguage': 'default', 'searchText': '', 'maxInappropriateScore': '50', 'forceanon': '1'}\n"
     ]
    }
   ],
   "source": [
    "print(par_dict)"
   ]
  },
  {
   "cell_type": "code",
   "execution_count": 22,
   "id": "b6730e80-f997-49af-a09c-fa1f790cf068",
   "metadata": {},
   "outputs": [],
   "source": [
    "url = 'https://steamcommunity.com/app/30/homecontent/?userreviewscursor=AoJ43br6l4wDcdzyxgQ%3D&userreviewsoffset=10&p=2&workshopitemspage=2&readytouseitemspage=2&mtxitemspage=2&itemspage=2&screenshotspage=2&videospage=2&artpage=2&allguidepage=2&webguidepage=2&integratedguidepage=2&discussionspage=2&numperpage=10&browsefilter=mostrecent&l=english&appHubSubSection=10&filterLanguage=default&searchText=&maxInappropriateScore=50&forceanon=1'"
   ]
  },
  {
   "cell_type": "code",
   "execution_count": 23,
   "id": "fde7afbb-1ad5-4ed9-9a93-5e68f695ee9b",
   "metadata": {},
   "outputs": [
    {
     "name": "stdout",
     "output_type": "stream",
     "text": [
      "https://steamcommunity.com/app/30/homecontent/?userreviewscursor=AoJ43br6l4wDcdzyxgQ%3D&userreviewsoffset=0&p=1&workshopitemspage=1&readytouseitemspage=1&mtxitemspage=1&itemspage=1&screenshotspage=1&videospage=1&artpage=1&allguidepage=1&webguidepage=1&integratedguidepage=1&discussionspage=1&numperpage=10&browsefilter=mostrecent&l=english&appHubSubSection=10&filterLanguage=default&searchText=&maxInappropriateScore=50&forceanon=1\n",
      "https://steamcommunity.com/app/30/homecontent/?userreviewscursor=AoJ43br6l4wDcdzyxgQ%3D&userreviewsoffset=10&p=2&workshopitemspage=2&readytouseitemspage=2&mtxitemspage=2&itemspage=2&screenshotspage=2&videospage=2&artpage=2&allguidepage=2&webguidepage=2&integratedguidepage=2&discussionspage=2&numperpage=10&browsefilter=mostrecent&l=english&appHubSubSection=10&filterLanguage=default&searchText=&maxInappropriateScore=50&forceanon=1\n",
      "https://steamcommunity.com/app/30/homecontent/?userreviewscursor=AoJ43br6l4wDcdzyxgQ%3D&userreviewsoffset=20&p=3&workshopitemspage=3&readytouseitemspage=3&mtxitemspage=3&itemspage=3&screenshotspage=3&videospage=3&artpage=3&allguidepage=3&webguidepage=3&integratedguidepage=3&discussionspage=3&numperpage=10&browsefilter=mostrecent&l=english&appHubSubSection=10&filterLanguage=default&searchText=&maxInappropriateScore=50&forceanon=1\n",
      "https://steamcommunity.com/app/30/homecontent/?userreviewscursor=AoJ43br6l4wDcdzyxgQ%3D&userreviewsoffset=30&p=4&workshopitemspage=4&readytouseitemspage=4&mtxitemspage=4&itemspage=4&screenshotspage=4&videospage=4&artpage=4&allguidepage=4&webguidepage=4&integratedguidepage=4&discussionspage=4&numperpage=10&browsefilter=mostrecent&l=english&appHubSubSection=10&filterLanguage=default&searchText=&maxInappropriateScore=50&forceanon=1\n",
      "https://steamcommunity.com/app/30/homecontent/?userreviewscursor=AoJ43br6l4wDcdzyxgQ%3D&userreviewsoffset=40&p=5&workshopitemspage=5&readytouseitemspage=5&mtxitemspage=5&itemspage=5&screenshotspage=5&videospage=5&artpage=5&allguidepage=5&webguidepage=5&integratedguidepage=5&discussionspage=5&numperpage=10&browsefilter=mostrecent&l=english&appHubSubSection=10&filterLanguage=default&searchText=&maxInappropriateScore=50&forceanon=1\n",
      "https://steamcommunity.com/app/30/homecontent/?userreviewscursor=AoJ43br6l4wDcdzyxgQ%3D&userreviewsoffset=50&p=6&workshopitemspage=6&readytouseitemspage=6&mtxitemspage=6&itemspage=6&screenshotspage=6&videospage=6&artpage=6&allguidepage=6&webguidepage=6&integratedguidepage=6&discussionspage=6&numperpage=10&browsefilter=mostrecent&l=english&appHubSubSection=10&filterLanguage=default&searchText=&maxInappropriateScore=50&forceanon=1\n",
      "https://steamcommunity.com/app/30/homecontent/?userreviewscursor=AoJ43br6l4wDcdzyxgQ%3D&userreviewsoffset=60&p=7&workshopitemspage=7&readytouseitemspage=7&mtxitemspage=7&itemspage=7&screenshotspage=7&videospage=7&artpage=7&allguidepage=7&webguidepage=7&integratedguidepage=7&discussionspage=7&numperpage=10&browsefilter=mostrecent&l=english&appHubSubSection=10&filterLanguage=default&searchText=&maxInappropriateScore=50&forceanon=1\n",
      "https://steamcommunity.com/app/30/homecontent/?userreviewscursor=AoJ43br6l4wDcdzyxgQ%3D&userreviewsoffset=70&p=8&workshopitemspage=8&readytouseitemspage=8&mtxitemspage=8&itemspage=8&screenshotspage=8&videospage=8&artpage=8&allguidepage=8&webguidepage=8&integratedguidepage=8&discussionspage=8&numperpage=10&browsefilter=mostrecent&l=english&appHubSubSection=10&filterLanguage=default&searchText=&maxInappropriateScore=50&forceanon=1\n",
      "https://steamcommunity.com/app/30/homecontent/?userreviewscursor=AoJ43br6l4wDcdzyxgQ%3D&userreviewsoffset=80&p=9&workshopitemspage=9&readytouseitemspage=9&mtxitemspage=9&itemspage=9&screenshotspage=9&videospage=9&artpage=9&allguidepage=9&webguidepage=9&integratedguidepage=9&discussionspage=9&numperpage=10&browsefilter=mostrecent&l=english&appHubSubSection=10&filterLanguage=default&searchText=&maxInappropriateScore=50&forceanon=1\n",
      "https://steamcommunity.com/app/30/homecontent/?userreviewscursor=AoJ43br6l4wDcdzyxgQ%3D&userreviewsoffset=90&p=10&workshopitemspage=10&readytouseitemspage=10&mtxitemspage=10&itemspage=10&screenshotspage=10&videospage=10&artpage=10&allguidepage=10&webguidepage=10&integratedguidepage=10&discussionspage=10&numperpage=10&browsefilter=mostrecent&l=english&appHubSubSection=10&filterLanguage=default&searchText=&maxInappropriateScore=50&forceanon=1\n"
     ]
    }
   ],
   "source": [
    "base_url = url.split('?')[0] + '?'\n",
    "parameters = url.split('?')[1]\n",
    "\n",
    "par_dict = {e.split('=')[0]:e.split('=')[1] for e in parameters.split('&')}\n",
    "page_ids = ['p', 'workshopitemspage', 'workshopitemspage', 'readytouseitemspage', 'mtxitemspage', 'itemspage', 'screenshotspage', 'videospage', 'artpage', 'allguidepage', 'webguidepage', 'integratedguidepage', 'discussionspage']\n",
    "\n",
    "urls = []\n",
    "for page in range(1, 11):\n",
    "    url = base_url\n",
    "    offset = (page - 1) * 10\n",
    "    for k, v in par_dict.items():\n",
    "        if k in page_ids:\n",
    "            url += k + '=' + str(page) + '&'\n",
    "        elif k == 'userreviewsoffset':\n",
    "            url += k + '=' + str(offset) + '&'\n",
    "        else:\n",
    "            url += k + '=' + v + '&'\n",
    "    urls.append(url[:-1])\n",
    "    print(url[:-1])"
   ]
  },
  {
   "cell_type": "markdown",
   "id": "00a7665c-f0ca-4d8b-b66e-12b54b00a649",
   "metadata": {},
   "source": [
    "## All URLs return the same result\n",
    "\n",
    "I figured out that userreviewcursor probably points to a location that helps server decide on where to start fetching data. That is why this is the most crutial part of URL and why all URLs return approximatley the same results.\n",
    "\n",
    "## Some URLs redirect\n",
    "\n",
    "Some review lists seems to be inaccessable. This is common for some packs (http://steamcommunity.com/app/1256/reviews/?browsefilter=mostrecent&p=1 doesn't work even though pack with this ID exists - https://store.steampowered.com/app/1256/Killing_Floor_Outbreak_Character_Pack/)\n",
    "\n",
    "I also noticed that for some games you actually can't access this list, Even though their links point to it (https://store.steampowered.com/app/11020/TrackMania_Nations_Forever/ - At the bottom you have a button \"Browse all 21,904 reviews\n",
    "\" But it doesn't actually work - Redirects to main page.)"
   ]
  },
  {
   "cell_type": "code",
   "execution_count": null,
   "id": "c9fa55fc-aa75-4855-8876-58e8fad22e57",
   "metadata": {},
   "outputs": [],
   "source": []
  }
 ],
 "metadata": {
  "kernelspec": {
   "display_name": "Python 3 (ipykernel)",
   "language": "python",
   "name": "python3"
  },
  "language_info": {
   "codemirror_mode": {
    "name": "ipython",
    "version": 3
   },
   "file_extension": ".py",
   "mimetype": "text/x-python",
   "name": "python",
   "nbconvert_exporter": "python",
   "pygments_lexer": "ipython3",
   "version": "3.10.12"
  }
 },
 "nbformat": 4,
 "nbformat_minor": 5
}
